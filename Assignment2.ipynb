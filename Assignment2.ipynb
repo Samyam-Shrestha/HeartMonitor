{
  "nbformat": 4,
  "nbformat_minor": 0,
  "metadata": {
    "colab": {
      "provenance": [],
      "toc_visible": true
    },
    "kernelspec": {
      "name": "python3",
      "display_name": "Python 3"
    },
    "language_info": {
      "name": "python"
    }
  },
  "cells": [
    {
      "cell_type": "code",
      "execution_count": null,
      "metadata": {
        "colab": {
          "base_uri": "https://localhost:8080/"
        },
        "id": "pbZ2Fz6Ks3lx",
        "outputId": "a1b6d01f-78b6-41c6-a881-705c8ba07ced"
      },
      "outputs": [
        {
          "output_type": "stream",
          "name": "stdout",
          "text": [
            "0.9853658536585366\n"
          ]
        }
      ],
      "source": [
        "# Decision Tree\n",
        "# Samyam Lal Shrestha, 1RVU23BSC127\n",
        "import numpy as np\n",
        "import pandas as pd\n",
        "from sklearn.model_selection import train_test_split\n",
        "from sklearn.metrics import accuracy_score\n",
        "from sklearn.tree import DecisionTreeClassifier\n",
        "import matplotlib.pyplot as plt\n",
        "df1 = pd.read_csv(\"heart.csv\")\n",
        "df1.head(5)\n",
        "X = df1.drop(columns=['target'])\n",
        "y = df1['target']\n",
        "X_train, X_test, y_train, y_test = train_test_split(X, y, test_size=0.2, random_state=42)\n",
        "G = DecisionTreeClassifier(criterion='entropy', random_state=0)\n",
        "G.fit(X_train, y_train)\n",
        "y_pred_train = G.predict(X_train)\n",
        "y_pred_test = G.predict(X_test)\n",
        "score = G.score(X_test, y_test)\n",
        "print(score)"
      ]
    },
    {
      "cell_type": "code",
      "source": [
        "# Random Forest\n",
        "# Samyam Lal Shrestha, 1RVU23BSC127\n",
        "import numpy as np\n",
        "import matplotlib.pyplot as plt\n",
        "import pandas as pd\n",
        "from sklearn.ensemble import RandomForestClassifier\n",
        "df1 = pd.read_csv(\"heart.csv\")\n",
        "df1.head(5)\n",
        "X = df1.drop(columns=['target'])\n",
        "y = df1['target']\n",
        "X_train, X_test, y_train, y_test = train_test_split(X, y, test_size=0.7, random_state=42)\n",
        "F = RandomForestClassifier(criterion='entropy', random_state=0)\n",
        "F.fit(X_train, y_train)\n",
        "y_pred_train = F.predict(X_train)\n",
        "y_pred_test = F.predict(X_test)\n",
        "score = F.score(X_test, y_test)\n",
        "print(score)"
      ],
      "metadata": {
        "colab": {
          "base_uri": "https://localhost:8080/"
        },
        "id": "2JaXBAAWtwpN",
        "outputId": "ce0a3c90-835e-4552-b295-346bbed04e56"
      },
      "execution_count": null,
      "outputs": [
        {
          "output_type": "stream",
          "name": "stdout",
          "text": [
            "0.8969359331476323\n"
          ]
        }
      ]
    },
    {
      "cell_type": "code",
      "source": [
        "# Accuracy\n",
        "# Samyam Lal Shrestha, 1RVU23BSC127\n",
        "import warnings\n",
        "import pandas as pd\n",
        "from sklearn import model_selection\n",
        "import numpy as np\n",
        "from sklearn import linear_model\n",
        "warnings.filterwarnings(\"ignore\")\n",
        "df1 = pd.read_csv(\"heart.csv\")\n",
        "X = df1.drop(columns=['target'])\n",
        "y = df1['target']\n",
        "X_train, X_test, y_train, y_test = model_selection.train_test_split(X, y, test_size=0.3, random_state=7)\n",
        "Z = linear_model.LinearRegression()\n",
        "Z.fit(X_train, y_train)\n",
        "accuracy = Z.score(X_test, y_test)\n",
        "print(\"Accuracy - test set: %.2f%%\" % (accuracy * 100.0))\n",
        "predicted_value = Z.predict(X_test.head(1))\n",
        "print(\"Predicted target value for the first test data point:\", predicted_value)"
      ],
      "metadata": {
        "colab": {
          "base_uri": "https://localhost:8080/"
        },
        "id": "yS8Ey05Ut2qZ",
        "outputId": "86b8529d-cbf9-4687-fab1-e2505305ca3d"
      },
      "execution_count": null,
      "outputs": [
        {
          "output_type": "stream",
          "name": "stdout",
          "text": [
            "Accuracy - test set: 48.31%\n",
            "Predicted target value for the first test data point: [-0.1909316]\n"
          ]
        }
      ]
    },
    {
      "cell_type": "code",
      "source": [
        "# KNN\n",
        "# Samyam Lal Shrestha, 1RVU23BSC127\n",
        "import numpy as np\n",
        "import pandas as pd\n",
        "from sklearn.model_selection import train_test_split\n",
        "from sklearn.neighbors import KNeighborsClassifier\n",
        "df1 = pd.read_csv(\"heart.csv\")\n",
        "df1.head(5)\n",
        "X_train, X_test, y_train, y_test = train_test_split(X, y, test_size=0.2, random_state=42)\n",
        "J = KNeighborsClassifier()\n",
        "J.fit(X_train, y_train)\n",
        "y_pred = J.predict(X_test)\n",
        "score= J.score(X_test, y_test)\n",
        "print(score)"
      ],
      "metadata": {
        "colab": {
          "base_uri": "https://localhost:8080/"
        },
        "id": "YCazxTCkwDyw",
        "outputId": "22900c10-4745-47e7-bbab-d6e62db163dd"
      },
      "execution_count": null,
      "outputs": [
        {
          "output_type": "stream",
          "name": "stdout",
          "text": [
            "0.7317073170731707\n"
          ]
        }
      ]
    },
    {
      "cell_type": "code",
      "source": [
        "#SVM\n",
        "# Samyam Lal Shrestha, 1RVU23BSC127\n",
        "import numpy as np\n",
        "import pandas as pd\n",
        "from sklearn.model_selection import train_test_split\n",
        "from sklearn.svm import SVC\n",
        "X_train, X_test, y_train, y_test = train_test_split(X, y, test_size=0.2, random_state=42)\n",
        "df1 = pd.read_csv(\"heart.csv\")\n",
        "df1.head(5)\n",
        "P = SVC()\n",
        "P.fit(X_train, y_train)\n",
        "y_pred = P.predict(X_test)\n",
        "score = P.score(X_test, y_test)\n",
        "print(score)"
      ],
      "metadata": {
        "colab": {
          "base_uri": "https://localhost:8080/"
        },
        "id": "4F3tbgk2zr0W",
        "outputId": "9b454961-d097-4a55-9084-799de79453db"
      },
      "execution_count": null,
      "outputs": [
        {
          "output_type": "stream",
          "name": "stdout",
          "text": [
            "0.6829268292682927\n"
          ]
        }
      ]
    },
    {
      "cell_type": "code",
      "source": [
        "# Naive Bayes\n",
        "# Samyam Lal Shrestha, 1RVU23BSC127\n",
        "import numpy as np\n",
        "import pandas as pd\n",
        "from sklearn.model_selection import train_test_split\n",
        "from sklearn.naive_bayes import GaussianNB\n",
        "x =df1.drop('target',axis=1)\n",
        "y =df1['target']\n",
        "x_train,x_test,y_train,y_test = train_test_split(x,y,test_size=0.55,random_state=42)\n",
        "O = GaussianNB()\n",
        "O.fit(x_train,y_train)\n",
        "y_pred = O.predict(x_test)\n",
        "score = O.score(x_test, y_test)\n",
        "print(score)"
      ],
      "metadata": {
        "colab": {
          "base_uri": "https://localhost:8080/"
        },
        "id": "dd4mCEvx2Uxh",
        "outputId": "2d634e8d-1566-4011-caf3-d15044d7b0fd"
      },
      "execution_count": null,
      "outputs": [
        {
          "output_type": "stream",
          "name": "stdout",
          "text": [
            "0.8031914893617021\n"
          ]
        }
      ]
    }
  ]
}